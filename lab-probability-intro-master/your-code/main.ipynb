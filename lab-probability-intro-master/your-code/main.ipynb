{
 "cells": [
  {
   "cell_type": "markdown",
   "metadata": {},
   "source": [
    "# Introduction To Probability\n",
    "## Challenge 1\n",
    "\n",
    "A and B are events of a probability space with $(\\omega, \\sigma, P)$ such that $P(A) = 0.3$, $P(B) = 0.6$ and $P(A \\cap B) = 0.1$\n",
    "\n",
    "Which of the following statements are false?\n",
    "* $P(A \\cup B) = 0.6$\n",
    "* $P(A \\cap B^{C}) = 0.2$\n",
    "* $P(A \\cap (B \\cup B^{C})) = 0.4$\n",
    "* $P(A^{C} \\cap B^{C}) = 0.3$\n",
    "* $P((A \\cap B)^{C}) = 0.9$"
   ]
  },
  {
   "cell_type": "code",
   "execution_count": 7,
   "metadata": {},
   "outputs": [],
   "source": [
    "'''\n",
    "L.S. Correct!\n",
    "'''\n",
    "\n",
    "# 𝑃(𝐴∪𝐵)=0.6 is False\n",
    "\n",
    "# 𝑃(𝐴∩𝐵𝐶)=0.2 is True   (P(A∩Bc)=P(A)−P(A∩B))\n",
    "\n",
    "# 𝑃(𝐴∩(𝐵∪𝐵𝐶)=0.4 is False\n",
    "\n",
    "# 𝑃(𝐴𝐶∩𝐵𝐶)=0.3 is False \n",
    "\n",
    "# 𝑃((𝐴∩𝐵)𝐶)=0.9 is True"
   ]
  },
  {
   "cell_type": "markdown",
   "metadata": {},
   "source": [
    "## Challenge 2\n",
    "There is a box with 10 white balls, 12 red balls and 8 black balls. Calculate the probability of:\n",
    "* Taking a white ball out.\n",
    "* Taking a white ball out after taking a black ball out.\n",
    "* Taking a red ball out after taking a black and a red ball out.\n",
    "* Taking a red ball out after taking a black and a red ball out with reposition.\n",
    "\n",
    "**Hint**: Reposition means putting back the ball into the box after taking it out."
   ]
  },
  {
   "cell_type": "code",
   "execution_count": 13,
   "metadata": {},
   "outputs": [
    {
     "name": "stdout",
     "output_type": "stream",
     "text": [
      "Probability of taking out a white ball 0.3333333333333333\n",
      "Probability of taking out a white ball after taking a black ball is 0.09195402298850575\n",
      "Probability of taking out a red ball out after taking a black and a red ball out is 0.04334975369458128\n",
      "Probability of taking out a red ball out after taking a black and a red ball out with reposition is 0.04266666666666667\n"
     ]
    }
   ],
   "source": [
    "'''\n",
    "L.S. Good!\n",
    "'''\n",
    "\n",
    "white = 10\n",
    "red = 12\n",
    "black = 8\n",
    "\n",
    "total = white + red + black\n",
    "total\n",
    "\n",
    "# 1. Taking a white ball out:\n",
    "p_white = white / total\n",
    "print('Probability of taking out a white ball', p_white)\n",
    "\n",
    "# 2. Taking a white ball out after taking a black ball out:\n",
    "p_black = black / total\n",
    "p_white = white / (total-1)\n",
    "p_black_white = p_black * p_white\n",
    "print('Probability of taking out a white ball after taking a black ball is', p_black_white)\n",
    "\n",
    "# 3. Taking a red ball out after taking a black and a red ball out.\n",
    "p_red_1 = red / total\n",
    "p_black_2 = black / (total-1)\n",
    "p_red_3 = (red-1) / (total-2)\n",
    "p_total = p_red_1 * p_black_2 * p_red_3\n",
    "print('Probability of taking out a red ball out after taking a black and a red ball out is', p_total)\n",
    "\n",
    "# 4. Taking a red ball out after taking a black and a red ball out with reposition.\n",
    "\n",
    "p_red_q4 = red / total\n",
    "p_black_q4 = black / (total)\n",
    "p_red_q4 = red / (total)\n",
    "p_total_q4 = p_red_q4 * p_black_q4  * p_red_q4\n",
    "print('Probability of taking out a red ball out after taking a black and a red ball out with reposition is', p_total_q4)\n",
    "\n"
   ]
  },
  {
   "cell_type": "markdown",
   "metadata": {},
   "source": [
    "## Challenge 3\n",
    "\n",
    "You are planning to go on a picnic today but the morning is cloudy. You hate rain so you don't know whether to go out or stay home! To help you make a decision, you gather the following data about rainy days:\n",
    "\n",
    "* 50% of all rainy days start off cloudy!\n",
    "* Cloudy mornings are common. About 40% of days start cloudy. \n",
    "* This month is usually dry so only 3 of 30 days (10%) tend to be rainy. \n",
    "\n",
    "What is the chance of rain during the day?"
   ]
  },
  {
   "cell_type": "code",
   "execution_count": 9,
   "metadata": {},
   "outputs": [
    {
     "name": "stdout",
     "output_type": "stream",
     "text": [
      "There is a 0.125 change of rain during the day.\n"
     ]
    }
   ],
   "source": [
    "'''\n",
    "L.S. Incorrect, you should have used Bayes Theorem.\n",
    "'''\n",
    "\n",
    "p_cloudy_rainy = 0.5\n",
    "p_cloudy = 0.4\n",
    "p_rainy = 0.1\n",
    "\n",
    "\n",
    "p_rainy_cloudy = (p_rainy * p_cloudy_rainy) / p_cloudy\n",
    "print('There is a', p_rainy_cloudy,'change of rain during the day.')"
   ]
  },
  {
   "cell_type": "markdown",
   "metadata": {},
   "source": [
    "## Challenge 4\n",
    "\n",
    "One thousand people were asked through a telephone survey whether they thought more street lighting is needed at night or not.\n",
    "\n",
    "Out of the 480 men that answered the survey, 324 said yes and 156 said no. On the other hand, out of the 520 women that answered, 351 said yes and 169 said no. \n",
    "\n",
    "We wonder if men and women have a different opinions about the street lighting matter. Is gender relevant or irrelevant to the question?\n",
    "\n",
    "Consider the following events:\n",
    "- The answer is yes, so the person that answered thinks that more street lighting is needed.\n",
    "- The person who answered is a man.\n",
    "\n",
    "We want to know if these events are independent, that is, if the fact of wanting more light depends on whether one is male or female. Are these events independent or not?\n",
    "\n",
    "**Hint**: To clearly compare the answers by gender, it is best to place the data in a table."
   ]
  },
  {
   "cell_type": "code",
   "execution_count": 11,
   "metadata": {},
   "outputs": [
    {
     "name": "stdout",
     "output_type": "stream",
     "text": [
      "probability that the person who answers is a man: 0.48\n",
      "probability that the answer will be yes: 0.675\n",
      "probability that a man will answer yes: 0.675\n",
      "probability that the person who answered -yes- is a man: 0.48\n",
      "These events are independent.\n"
     ]
    }
   ],
   "source": [
    "'''\n",
    "L.S. Correct, well done!\n",
    "'''\n",
    "\n",
    "total = 1000\n",
    "\n",
    "men = 480\n",
    "women = 520\n",
    "yes_man = 324\n",
    "yes_woman = 351\n",
    "yes_total = yes_man + yes_woman\n",
    "\n",
    "\n",
    "p_man = men / total\n",
    "print('probability that the person who answers is a man:', p_man)\n",
    "p_yes = yes_total / total\n",
    "print('probability that the answer will be yes:', p_yes)\n",
    "\n",
    "p_yes_man = yes_man / men\n",
    "print('probability that a man will answer yes:', p_yes_man)\n",
    "p_man_yes = yes_man / yes_total\n",
    "print('probability that the person who answered -yes- is a man:', p_man_yes)\n",
    "\n",
    "\n",
    "# p(yes|man) == p(yes) and p(man|yes) == p(man)\n",
    "\n",
    "if p_yes_man == p_yes and p_man_yes == p_man:\n",
    "    print('These events are independent.')\n",
    "else:\n",
    "    print('The events are dependent.')\n"
   ]
  },
  {
   "cell_type": "code",
   "execution_count": null,
   "metadata": {},
   "outputs": [],
   "source": []
  }
 ],
 "metadata": {
  "kernelspec": {
   "display_name": "Python 3",
   "language": "python",
   "name": "python3"
  },
  "language_info": {
   "codemirror_mode": {
    "name": "ipython",
    "version": 3
   },
   "file_extension": ".py",
   "mimetype": "text/x-python",
   "name": "python",
   "nbconvert_exporter": "python",
   "pygments_lexer": "ipython3",
   "version": "3.6.4"
  }
 },
 "nbformat": 4,
 "nbformat_minor": 2
}
